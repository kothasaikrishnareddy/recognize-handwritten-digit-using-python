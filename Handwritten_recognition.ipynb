{
 "cells": [
  {
   "cell_type": "markdown",
   "metadata": {
    "id": "QKn8-DH_xMjI"
   },
   "source": [
    "# Importing libraries that is required for analysis "
   ]
  },
  {
   "cell_type": "code",
   "execution_count": 33,
   "metadata": {
    "id": "KQ5oxfW_AZIO"
   },
   "outputs": [],
   "source": [
    "from tensorflow.keras.datasets import mnist\n",
    "from tensorflow.keras.models import Sequential\n",
    "from tensorflow.keras.layers import Dense, Dropout, Flatten\n",
    "from tensorflow.keras.layers import Conv2D, MaxPooling2D\n",
    "from tensorflow.keras import backend as K\n",
    "import tensorflow as tf\n",
    "import warnings \n",
    "warnings.filterwarnings('ignore')"
   ]
  },
  {
   "cell_type": "markdown",
   "metadata": {
    "id": "LEqwOawsxiHo"
   },
   "source": [
    "# Splitting dataset into training and testing "
   ]
  },
  {
   "cell_type": "code",
   "execution_count": 43,
   "metadata": {
    "colab": {
     "base_uri": "https://localhost:8080/"
    },
    "id": "xReiWw28w4GI",
    "outputId": "ac5e8f8a-23c0-443d-ab8c-3c15a6cb382e"
   },
   "outputs": [
    {
     "name": "stdout",
     "output_type": "stream",
     "text": [
      "(60000, 28, 28) (60000,)\n"
     ]
    }
   ],
   "source": [
    "#Splitting dataset into training and testing \n",
    "#split the feature values and target values based on the dataset\n",
    "(feature_train_data, target_y_values), (feature_test_values, target_test_values) = mnist.load_data()\n",
    "print(feature_train_data.shape, target_y_values.shape)"
   ]
  },
  {
   "cell_type": "markdown",
   "metadata": {
    "id": "a1QHz_TT2pF5"
   },
   "source": [
    "# Visualizations"
   ]
  },
  {
   "cell_type": "code",
   "execution_count": 44,
   "metadata": {
    "colab": {
     "base_uri": "https://localhost:8080/",
     "height": 268
    },
    "id": "u7AzIf2M279o",
    "outputId": "176a245e-63df-430f-d1db-2342ad6ba907"
   },
   "outputs": [
    {
     "data": {
      "image/png": "[encoded data removed]",
      "text/plain": [
       "<Figure size 640x480 with 9 Axes>"
      ]
     },
     "metadata": {},
     "output_type": "display_data"
    }
   ],
   "source": [
    "import matplotlib.pyplot as plt\n",
    "for i in range(9):\n",
    "    plt.subplot(330 + 1 + i)\n",
    "    plt.imshow(feature_train_data[i], cmap=plt.get_cmap('gray'))\n",
    "plt.show()"
   ]
  },
  {
   "cell_type": "markdown",
   "metadata": {
    "id": "74EMJfYS0lSx"
   },
   "source": [
    "# Data Normalization and standardarization of dataset"
   ]
  },
  {
   "cell_type": "code",
   "execution_count": 45,
   "metadata": {
    "id": "2xeUAIznw8UR"
   },
   "outputs": [],
   "source": [
    "feature_train_data = feature_train_data.reshape(feature_train_data.shape[0], 28, 28, 1)\n",
    "feature_test_values = feature_test_values.reshape(feature_test_values.shape[0], 28, 28, 1)\n",
    "Data_shape = (28, 28, 1)"
   ]
  },
  {
   "cell_type": "markdown",
   "metadata": {
    "id": "CDAX48vO01vC"
   },
   "source": [
    "# Converting class vectors into binary matrics class"
   ]
  },
  {
   "cell_type": "code",
   "execution_count": 46,
   "metadata": {
    "id": "qhqHChwFwslB"
   },
   "outputs": [],
   "source": [
    "from tensorflow.keras.utils import to_categorical\n",
    "target_y_values = to_categorical(target_y_values, 10)\n",
    "target_test_values = to_categorical(target_test_values, 10)"
   ]
  },
  {
   "cell_type": "markdown",
   "metadata": {
    "id": "LobKym2E1ZuP"
   },
   "source": [
    "# Changing the type of feature train and feature test values "
   ]
  },
  {
   "cell_type": "code",
   "execution_count": 47,
   "metadata": {
    "id": "cidRDTcKw2Jw"
   },
   "outputs": [],
   "source": [
    "feature_train_data = feature_train_data.astype('float32')\n",
    "feature_test_values = feature_test_values.astype('float32')\n",
    "feature_train_data /= 255\n",
    "feature_test_values /= 255"
   ]
  },
  {
   "cell_type": "markdown",
   "metadata": {
    "id": "fgY1mgHW1qXy"
   },
   "source": [
    "# Exploring dataset that will be used for performing the training "
   ]
  },
  {
   "cell_type": "code",
   "execution_count": 48,
   "metadata": {
    "colab": {
     "base_uri": "https://localhost:8080/"
    },
    "id": "kT4RrGo81iEB",
    "outputId": "5c3cf7a3-98db-4476-b1a2-cbe43613a3db"
   },
   "outputs": [
    {
     "name": "stdout",
     "output_type": "stream",
     "text": [
      "feature_train_data shape: (60000, 28, 28, 1)\n",
      "60000 train samples\n",
      "10000 test samples\n"
     ]
    }
   ],
   "source": [
    "print('feature_train_data shape:', feature_train_data.shape)\n",
    "print(feature_train_data.shape[0], 'train samples')\n",
    "print(feature_test_values.shape[0], 'test samples')"
   ]
  },
  {
   "cell_type": "markdown",
   "metadata": {
    "id": "D1yGIbM533QI"
   },
   "source": [
    "# Designing machine learning mnist_model for mnist dataset"
   ]
  },
  {
   "cell_type": "code",
   "execution_count": 49,
   "metadata": {
    "id": "ZzHXBOJxwxmi"
   },
   "outputs": [],
   "source": [
    "mnist_model = Sequential()\n",
    "mnist_model.add(Conv2D(32, kernel_size=(5, 5),activation='relu',input_shape=Data_shape))\n",
    "mnist_model.add(MaxPooling2D(pool_size=(2, 2)))\n",
    "mnist_model.add(Conv2D(64, (3, 3), activation='relu'))\n",
    "mnist_model.add(MaxPooling2D(pool_size=(2, 2)))\n",
    "mnist_model.add(Flatten())\n",
    "mnist_model.add(Dense(128, activation='relu'))\n",
    "mnist_model.add(Dropout(0.3))\n",
    "mnist_model.add(Dense(64, activation='relu'))\n",
    "mnist_model.add(Dropout(0.5))\n",
    "mnist_model.add(Dense(10, activation='softmax'))"
   ]
  },
  {
   "cell_type": "markdown",
   "metadata": {
    "id": "BgdgKY-V4UDH"
   },
   "source": [
    "# Model summary"
   ]
  },
  {
   "cell_type": "code",
   "execution_count": 50,
   "metadata": {
    "colab": {
     "base_uri": "https://localhost:8080/"
    },
    "id": "VVuk3dg_4j1W",
    "outputId": "1364e831-845a-4dde-e7aa-43e5f08046ca"
   },
   "outputs": [
    {
     "name": "stdout",
     "output_type": "stream",
     "text": [
      "Model: \"sequential_2\"\n",
      "_________________________________________________________________\n",
      "Layer (type)                 Output Shape              Param #   \n",
      "=================================================================\n",
      "conv2d_4 (Conv2D)            (None, 24, 24, 32)        832       \n",
      "_________________________________________________________________\n",
      "max_pooling2d_4 (MaxPooling2 (None, 12, 12, 32)        0         \n",
      "_________________________________________________________________\n",
      "conv2d_5 (Conv2D)            (None, 10, 10, 64)        18496     \n",
      "_________________________________________________________________\n",
      "max_pooling2d_5 (MaxPooling2 (None, 5, 5, 64)          0         \n",
      "_________________________________________________________________\n",
      "flatten_2 (Flatten)          (None, 1600)              0         \n",
      "_________________________________________________________________\n",
      "dense_6 (Dense)              (None, 128)               204928    \n",
      "_________________________________________________________________\n",
      "dropout_4 (Dropout)          (None, 128)               0         \n",
      "_________________________________________________________________\n",
      "dense_7 (Dense)              (None, 64)                8256      \n",
      "_________________________________________________________________\n",
      "dropout_5 (Dropout)          (None, 64)                0         \n",
      "_________________________________________________________________\n",
      "dense_8 (Dense)              (None, 10)                650       \n",
      "=================================================================\n",
      "Total params: 233,162\n",
      "Trainable params: 233,162\n",
      "Non-trainable params: 0\n",
      "_________________________________________________________________\n"
     ]
    }
   ],
   "source": [
    "mnist_model.summary() #model summary "
   ]
  },
  {
   "cell_type": "markdown",
   "metadata": {
    "id": "tT1887CF4jV-"
   },
   "source": [
    "# Compilation and training of model using training data"
   ]
  },
  {
   "cell_type": "code",
   "execution_count": 51,
   "metadata": {
    "id": "6DHAj50RxBqK"
   },
   "outputs": [],
   "source": [
    "mnist_model.compile(loss=tf.keras.losses.categorical_crossentropy,optimizer=tf.keras.optimizers.Adam(),metrics=['accuracy'])"
   ]
  },
  {
   "cell_type": "markdown",
   "metadata": {
    "id": "N5o_uQ2L6Oag"
   },
   "source": [
    "# Model training "
   ]
  },
  {
   "cell_type": "code",
   "execution_count": 52,
   "metadata": {
    "colab": {
     "base_uri": "https://localhost:8080/"
    },
    "id": "Dt3tp7W25BZv",
    "outputId": "61cdd181-f7cc-4a8f-f448-09274bbe1b7f"
   },
   "outputs": [
    {
     "name": "stdout",
     "output_type": "stream",
     "text": [
      "Train on 60000 samples, validate on 10000 samples\n",
      "Epoch 1/10\n",
      "60000/60000 [==============================] - 48s 793us/sample - loss: 0.3889 - acc: 0.8809 - val_loss: 0.0627 - val_acc: 0.9813\n",
      "Epoch 2/10\n",
      "60000/60000 [==============================] - 27s 444us/sample - loss: 0.1125 - acc: 0.9701 - val_loss: 0.0415 - val_acc: 0.9882\n",
      "Epoch 3/10\n",
      "60000/60000 [==============================] - 24s 393us/sample - loss: 0.0791 - acc: 0.9798 - val_loss: 0.0343 - val_acc: 0.9902\n",
      "Epoch 4/10\n",
      "60000/60000 [==============================] - 24s 406us/sample - loss: 0.0618 - acc: 0.9836 - val_loss: 0.0303 - val_acc: 0.9911\n",
      "Epoch 5/10\n",
      "60000/60000 [==============================] - 31s 509us/sample - loss: 0.0536 - acc: 0.9861 - val_loss: 0.0329 - val_acc: 0.9900\n",
      "Epoch 6/10\n",
      "60000/60000 [==============================] - 21s 346us/sample - loss: 0.0445 - acc: 0.9885 - val_loss: 0.0268 - val_acc: 0.9917\n",
      "Epoch 7/10\n",
      "60000/60000 [==============================] - 22s 369us/sample - loss: 0.0405 - acc: 0.9897 - val_loss: 0.0261 - val_acc: 0.9924\n",
      "Epoch 8/10\n",
      "60000/60000 [==============================] - 21s 353us/sample - loss: 0.0354 - acc: 0.9912 - val_loss: 0.0285 - val_acc: 0.9913\n",
      "Epoch 9/10\n",
      "60000/60000 [==============================] - 21s 342us/sample - loss: 0.0315 - acc: 0.9916 - val_loss: 0.0262 - val_acc: 0.9922\n",
      "Epoch 10/10\n",
      "60000/60000 [==============================] - 20s 335us/sample - loss: 0.0277 - acc: 0.9929 - val_loss: 0.0286 - val_acc: 0.9926\n",
      "The mnist_model trained successfully\n"
     ]
    }
   ],
   "source": [
    "hist = mnist_model.fit(feature_train_data, target_y_values,batch_size=128,epochs=10,verbose=1,validation_data=(feature_test_values, target_test_values))\n",
    "print(\"The mnist_model trained successfully\")"
   ]
  },
  {
   "cell_type": "markdown",
   "metadata": {
    "id": "ozTetBcW6hP3"
   },
   "source": [
    "# Model evaluation"
   ]
  },
  {
   "cell_type": "code",
   "execution_count": 53,
   "metadata": {
    "colab": {
     "base_uri": "https://localhost:8080/"
    },
    "id": "mucs4pYzxJYD",
    "outputId": "2a004071-b666-45e5-9ed2-bfafe1a186f7"
   },
   "outputs": [
    {
     "name": "stdout",
     "output_type": "stream",
     "text": [
      "Test loss: 0.028619782818992193\n",
      "Test accuracy: 0.9926\n"
     ]
    }
   ],
   "source": [
    "model_scores = mnist_model.evaluate(feature_test_values, target_test_values, verbose=0)\n",
    "print('Test loss:', model_scores[0])\n",
    "print('Test accuracy:', model_scores[1])"
   ]
  },
  {
   "cell_type": "markdown",
   "metadata": {
    "id": "c2woIfy362tm"
   },
   "source": [
    "# Accuracy curves and model evaluation "
   ]
  },
  {
   "cell_type": "code",
   "execution_count": 57,
   "metadata": {
    "colab": {
     "base_uri": "https://localhost:8080/",
     "height": 350
    },
    "id": "mIYIb-tW6x65",
    "outputId": "077d0ea4-7347-4754-ae6a-9c5dee8af785"
   },
   "outputs": [
    {
     "data": {
      "image/png": "[encoded data removed]",
      "text/plain": [
       "<Figure size 1200x500 with 1 Axes>"
      ]
     },
     "metadata": {},
     "output_type": "display_data"
    }
   ],
   "source": [
    "#Accuracy curves \n",
    "fig = plt.figure(figsize = (12,5))\n",
    "plt.plot(hist.history['acc'], label = 'accuracy')\n",
    "plt.plot(hist.history['val_acc'], label = 'val_accuracy')\n",
    "plt.legend()\n",
    "plt.grid()\n",
    "plt.xlabel('epochs')\n",
    "plt.ylabel('Accuracy')\n",
    "plt.title('accuracy')\n",
    "plt.show()"
   ]
  },
  {
   "cell_type": "code",
   "execution_count": 58,
   "metadata": {
    "colab": {
     "base_uri": "https://localhost:8080/",
     "height": 350
    },
    "id": "VqbFCLSY68RP",
    "outputId": "ec852f44-6f67-46f3-b7fd-f2ed8fa7956f"
   },
   "outputs": [
    {
     "data": {
      "image/png": "[encoded data removed]",
      "text/plain": [
       "<Figure size 1200x500 with 1 Axes>"
      ]
     },
     "metadata": {},
     "output_type": "display_data"
    }
   ],
   "source": [
    "#Loss \n",
    "fig = plt.figure(figsize = (12,5))\n",
    "plt.plot(hist.history['loss'], label = 'loss')\n",
    "plt.plot(hist.history['val_loss'], label = 'val_loss')\n",
    "plt.legend()\n",
    "plt.grid()\n",
    "plt.xlabel('Epochs')\n",
    "plt.ylabel('LOSS')\n",
    "plt.title('LOSS')\n",
    "plt.show()"
   ]
  },
  {
   "cell_type": "markdown",
   "metadata": {
    "id": "EJ79178h6UAG"
   },
   "source": [
    "# Saving models"
   ]
  },
  {
   "cell_type": "code",
   "execution_count": 62,
   "metadata": {
    "colab": {
     "base_uri": "https://localhost:8080/"
    },
    "id": "Kp1wy4Ib6kTN",
    "outputId": "346edc8f-4bab-464d-e419-18612359b5c8"
   },
   "outputs": [
    {
     "name": "stdout",
     "output_type": "stream",
     "text": [
      "Saving the mnist_model as new_digit_mnist.h5\n"
     ]
    }
   ],
   "source": [
    "mnist_model.save('new_digit_mnist.h5')\n",
    "print(\"Saving the mnist_model as new_digit_mnist.h5\")"
   ]
  },
  {
   "cell_type": "markdown",
   "metadata": {
    "id": "8-4u66sJ8-Nf"
   },
   "source": [
    "# Designing GUI for predicting the digits "
   ]
  },
  {
   "cell_type": "markdown",
   "metadata": {
    "id": "Izs-jajm9oAI"
   },
   "source": [
    "# Importing library for designing GUI  "
   ]
  },
  {
   "cell_type": "code",
   "execution_count": 60,
   "metadata": {
    "id": "gfAU5Vil85Uk"
   },
   "outputs": [],
   "source": [
    "from tensorflow.keras.models import load_model\n",
    "from tkinter import *\n",
    "import tkinter as tk\n",
    "import win32gui\n",
    "from PIL import ImageGrab, Image\n",
    "import numpy as np"
   ]
  },
  {
   "cell_type": "markdown",
   "metadata": {
    "id": "BEBQhsDh97sN"
   },
   "source": [
    "# Loading model that is designed "
   ]
  },
  {
   "cell_type": "code",
   "execution_count": 64,
   "metadata": {
    "id": "szJ5b27u9GvO"
   },
   "outputs": [],
   "source": [
    "mnist_model= load_model('new_digit_mnist.h5')"
   ]
  },
  {
   "cell_type": "markdown",
   "metadata": {
    "id": "cukUQvR5-ZOS"
   },
   "source": [
    "# Getting images at real time through GUI and converting that can be used for model training "
   ]
  },
  {
   "cell_type": "code",
   "execution_count": 98,
   "metadata": {
    "id": "_IyfxFXc-X8A"
   },
   "outputs": [],
   "source": [
    "def digit_prediction_mnist(images):\n",
    "    images = images.resize((28,28))\n",
    "    images = images.convert('L')\n",
    "    images = np.array(images)\n",
    "    images = images.reshape(1,28,28,1)\n",
    "    images = images/255.0\n",
    "    pred_result = mnist_model.predict([images])[0]\n",
    "    return np.argmax(pred_result), max(pred_result)"
   ]
  },
  {
   "cell_type": "code",
   "execution_count": 99,
   "metadata": {
    "colab": {
     "base_uri": "https://localhost:8080/",
     "height": 362
    },
    "id": "t3-yzzyr9Gsk",
    "outputId": "0d37f852-2a39-40a9-c933-7bc7acf8d5b8"
   },
   "outputs": [],
   "source": [
    "class App(tk.Tk):\n",
    "    def __init__(self):\n",
    "        tk.Tk.__init__(self)\n",
    "        self.x = self.y = 0\n",
    "\n",
    "        # Creating elements\n",
    "        self.canvas = tk.Canvas(self, width=600, height=600, bg = \"white\", cursor=\"cross\")\n",
    "        self.label = tk.Label(self, text=\"DRAW\", bg = \"white\", font=(\"Times New Roman\", 48))\n",
    "        self.classify_btn = tk.Button(self, text = \"Predict\", command = self.classify_handwriting)   \n",
    "        self.button_clear = tk.Button(self, text = \"Clear text\", command = self.clear_all)\n",
    "       \n",
    "        # Grid structure\n",
    "        self.canvas.grid(row=0, column=0, pady=2, sticky=W, )\n",
    "        self.label.grid(row=0, column=1,pady=2, padx=2)\n",
    "        self.classify_btn.grid(row=1, column=1, pady=2, padx=2)\n",
    "        self.button_clear.grid(row=1, column=0, pady=2)\n",
    "        \n",
    "        self.canvas.bind(\"<B1-Motion>\", self.draw_lines)\n",
    "\n",
    "    def clear_all(self):\n",
    "        self.canvas.delete(\"all\")\n",
    "        \n",
    "    def classify_handwriting(self):\n",
    "        HWND = self.canvas.winfo_id()  # get the handle of the canvas\n",
    "        rect = win32gui.GetWindowRect(HWND)  # get the coordinate of the canvas\n",
    "        a,b,c,d = rect\n",
    "        rect=(a+4,b+4,c-4,d-4)\n",
    "        im = ImageGrab.grab(rect)\n",
    "\n",
    "        digit, acc = digit_prediction_mnist(im)\n",
    "        self.label.configure(text= str(digit)+', '+ str(int(acc*100))+'%')\n",
    "\n",
    "    def draw_lines(self, event):\n",
    "        self.x = event.x\n",
    "        self.y = event.y\n",
    "        r=8\n",
    "        self.canvas.create_oval(self.x-r, self.y-r, self.x + r, self.y + r, fill='black')\n",
    "       \n",
    "app = App()\n",
    "mainloop()"
   ]
  },
  {
   "cell_type": "code",
   "execution_count": null,
   "metadata": {
    "id": "u_EDBoFK9Gp4"
   },
   "outputs": [],
   "source": []
  }
 ],
 "metadata": {
  "accelerator": "GPU",
  "colab": {
   "collapsed_sections": [],
   "name": "Handwritten_recognition.ipynb",
   "provenance": []
  },
  "kernelspec": {
   "display_name": "Python 3",
   "language": "python",
   "name": "python3"
  },
  "language_info": {
   "codemirror_mode": {
    "name": "ipython",
    "version": 3
   },
   "file_extension": ".py",
   "mimetype": "text/x-python",
   "name": "python",
   "nbconvert_exporter": "python",
   "pygments_lexer": "ipython3",
   "version": "3.8.8"
  }
 },
 "nbformat": 4,
 "nbformat_minor": 1
}
